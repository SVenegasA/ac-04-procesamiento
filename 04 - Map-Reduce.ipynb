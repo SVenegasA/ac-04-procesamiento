{
 "cells": [
  {
   "cell_type": "markdown",
   "metadata": {},
   "source": [
    "# Actividad Evaluada 1"
   ]
  },
  {
   "cell_type": "markdown",
   "metadata": {},
   "source": [
    "## Administrativos"
   ]
  },
  {
   "cell_type": "markdown",
   "metadata": {},
   "source": [
    "- El trabajo es individual. Puedes consultar y discutir con tus compañeras y compañeros, pero a la hora de escribir el código, no puedes compartirlo con nadie. Puedes usar recursos como internet y modelos de lenguaje, pero tienes que ser explícito en la cita o en el lugar donde los usaste.\n",
    "\n",
    "- La entrega es el lunes 09 de junio a las 20:00 horas. El úncio archivo a entregar es una copia de tu notebook, que deberás subir en canvas antes de ese día/hora. \n",
    "\n",
    "- Si tienes dudas, aprovéchanos, vamos a estar en la sala para ayudar. Recuerda que el objetivo en estas actividades es aprender y evaluar al mismo tiempo, ¡está bien si no todo sale a la primera!."
   ]
  },
  {
   "cell_type": "markdown",
   "metadata": {},
   "source": [
    "## Enunciado\n",
    "\n",
    "En esta actividad te va a tocar implementar PageRank usando las primitivas de Map-Reduce a través de [la API de RDD de Apache Spark](https://spark.apache.org/docs/3.5.5/api/python/reference/api/pyspark.RDD.html). Como vimos en clases, este es el core de la revolución que causó Google en los 2000 y de la forma en que se analizan grandes cantidades de datos en el presente."
   ]
  },
  {
   "cell_type": "markdown",
   "metadata": {},
   "source": [
    "### Datos\n",
    "\n",
    "Vamos a trabajar con datos de aeropuertos. Estos datos están modelados como un grafo y se señala:\n",
    "\n",
    "1. En que ciudad, país, región y continente está un aeropuerto.\n",
    "2. Si hay una ruta entre dos aeropuertos.\n",
    "\n",
    "Tu misión será calcular cuáles son los aeropuertos \"más importantes\" en el dataset usando el algoritmo de PageRank. Los datos van a estar disponibles en formato `.csv` y en formato `.json`. Hay dos archivos, uno que contiene los nodos (`nodes`) de los grafos con sus propiedades, y otro que incluye las aristas (`edges`), señalando el nodo de salida y llegada de la arista, ya que el grafo es dirigido. Tanto las aristas como los nodos pueden tener propiedades que señalan más información. Puedes ver un resumen de los datos en la siguiente imagen:\n",
    "\n",
    "![Esquema de los datos](./schema.png)\n",
    "\n",
    "Para trabajar con los datos, probablemente los vas a tener que transformar a un formato más amigable para Spark. Puedes usar el formato y las técnicas que más te acomoden."
   ]
  },
  {
   "cell_type": "markdown",
   "metadata": {},
   "source": [
    "### Parte 1 - Exploración de los datos (1,5 pts)\n",
    "\n",
    "Primero vamos a explorar los datos. Para esto, utilizando las primitivas de la API de RDD de Spark, responde a las siguientes consultas.\n",
    "\n",
    "1. Calcula el número de aeropuertos por ciudad.\n",
    "2. Calcula el número de aeropuertos por país.\n",
    "3. Para cada aeropuerto, calcula el número de rutas entrantes y salientes.\n"
   ]
  },
  {
   "cell_type": "markdown",
   "metadata": {},
   "source": [
    "### Parte 2 - Calculando PageRank (4,5 pts)\n",
    "\n",
    "Ahora, tienes que hacer un análisis de datos para entender cuáles son los aeropuertos más importantes del dataset. Para esto, vas a usar el algoritmo de centralidad PageRank.\n",
    "\n",
    "Utilizando solo las primitivas de la API de RDD de Spark, crea un algoritmo que reciba un grafo en el formato que tu decidas, y que entregue para cada nodo, el valor de PageRank del nodo.\n",
    "\n",
    "Luego, usa el algoritmo para analizar los aeropuertos más importantes del dataset, utilizando un grafo que solo contiene como nodos los aeropuertos, y que hay una arista entre dos aeropuertos si hay una ruta entre ellos. Mantén el grafo como uno dirigido.\n",
    "\n",
    "Finalmente, analiza los resultados del algoritmos. Comenta cuáles crees tú que son los aeropuertos más importantes y si los resultados te hacen sentido."
   ]
  }
 ],
 "metadata": {
  "kernelspec": {
   "display_name": "Python 3",
   "language": "python",
   "name": "python3"
  },
  "language_info": {
   "codemirror_mode": {
    "name": "ipython",
    "version": 3
   },
   "file_extension": ".py",
   "mimetype": "text/x-python",
   "name": "python",
   "nbconvert_exporter": "python",
   "pygments_lexer": "ipython3",
   "version": "3.12.2"
  }
 },
 "nbformat": 4,
 "nbformat_minor": 2
}
